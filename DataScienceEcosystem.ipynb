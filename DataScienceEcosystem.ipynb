{
 "cells": [
  {
   "cell_type": "markdown",
   "id": "06bbfdc7-57ce-4dff-82b1-088915a618ac",
   "metadata": {},
   "source": [
    "# Data Science Tools and Ecosystem"
   ]
  },
  {
   "cell_type": "markdown",
   "id": "abbc938a-b267-443c-8107-1fc65f52387d",
   "metadata": {},
   "source": [
    "In this notebook, Data Science Tools and Ecosystem are summarized."
   ]
  },
  {
   "cell_type": "markdown",
   "id": "7a63aca5-d44e-4dd7-b04d-05218c5b1395",
   "metadata": {},
   "source": [
    "**Objectives:**\n",
    "- List popular languages for Data\n",
    "- List commonly used libraries by Data Scientists\n",
    "- List of open source data science tools"
   ]
  },
  {
   "cell_type": "markdown",
   "id": "b3ad73c3-85f1-4753-8ce1-83167f312f1d",
   "metadata": {},
   "source": [
    "Some of the popular languages that Data Scientists use are:\n",
    "1. Python\n",
    "2. R\n",
    "3. Scala"
   ]
  },
  {
   "cell_type": "markdown",
   "id": "80301eda-2c1d-4a3b-8ef3-4679affc91bc",
   "metadata": {},
   "source": [
    "Some of the commonly used libraries used by Data Scientists include:\n",
    "1. Numpy\n",
    "2. Pandas\n",
    "3. Scikitlearn\n",
    "4. Matplotlib"
   ]
  },
  {
   "cell_type": "markdown",
   "id": "8fe22b32-b3d8-4de4-90b5-ff1b4b4b55fc",
   "metadata": {},
   "source": [
    "Data Science Tools|\n",
    "----------------|\n",
    "Jupyter Notebook|\n",
    "VSCode|\n",
    "Anaconda|\n",
    "R Studio|"
   ]
  },
  {
   "cell_type": "markdown",
   "id": "d0614589-83a9-4568-b24b-a94f9218dee4",
   "metadata": {},
   "source": [
    "### Below are a few examples of evaluating arithmetic expressions in Python"
   ]
  },
  {
   "cell_type": "code",
   "execution_count": 3,
   "id": "9b23ac90-3196-4712-8b08-912516ff626c",
   "metadata": {},
   "outputs": [
    {
     "data": {
      "text/plain": [
       "17"
      ]
     },
     "execution_count": 3,
     "metadata": {},
     "output_type": "execute_result"
    }
   ],
   "source": [
    "# This a simple arithmetic expression to mutiply then add integers\n",
    "(3*4)+5"
   ]
  },
  {
   "cell_type": "code",
   "execution_count": 4,
   "id": "e2b9a7ef-4b94-476b-85a9-dbfa74334dce",
   "metadata": {},
   "outputs": [
    {
     "data": {
      "text/plain": [
       "3.3333333333333335"
      ]
     },
     "execution_count": 4,
     "metadata": {},
     "output_type": "execute_result"
    }
   ],
   "source": [
    "# This will convert 200 minutes to hours by diving by 60\n",
    "200/60"
   ]
  },
  {
   "cell_type": "markdown",
   "id": "055f5d11-5e38-451b-b589-1f6e4a805679",
   "metadata": {},
   "source": [
    "## Author\n",
    "Naresh Katamaneni"
   ]
  }
 ],
 "metadata": {
  "kernelspec": {
   "display_name": "Python 3 (ipykernel)",
   "language": "python",
   "name": "python3"
  },
  "language_info": {
   "codemirror_mode": {
    "name": "ipython",
    "version": 3
   },
   "file_extension": ".py",
   "mimetype": "text/x-python",
   "name": "python",
   "nbconvert_exporter": "python",
   "pygments_lexer": "ipython3",
   "version": "3.12.8"
  }
 },
 "nbformat": 4,
 "nbformat_minor": 5
}
